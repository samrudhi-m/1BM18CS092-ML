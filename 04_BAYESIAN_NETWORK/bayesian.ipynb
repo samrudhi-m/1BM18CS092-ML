{
 "metadata": {
  "language_info": {
   "codemirror_mode": {
    "name": "ipython",
    "version": 3
   },
   "file_extension": ".py",
   "mimetype": "text/x-python",
   "name": "python",
   "nbconvert_exporter": "python",
   "pygments_lexer": "ipython3",
   "version": 3
  },
  "orig_nbformat": 2
 },
 "nbformat": 4,
 "nbformat_minor": 2,
 "cells": [
  {
   "cell_type": "code",
   "execution_count": null,
   "metadata": {},
   "outputs": [],
   "source": [
    "import pandas as pd\n",
    "from sklearn.model_selection import train_test_split\n",
    "from sklearn.naive_bayes import GaussianNB\n",
    "from sklearn import metrics\n",
    "\n",
    "df = pd.read_csv(\"dataset.csv\")\n",
    "feature_col_names = ['num_preg', 'glucose_conc', 'diastolic_bp', 'thickness', 'insulin', 'bmi', 'diab_pred', 'age']\n",
    "predicted_class_names = ['diabetes']\n",
    "\n",
    "X = df[feature_col_names].values \n",
    "y = df[predicted_class_names].values\n",
    "\n",
    "print(df.head)\n",
    "xtrain,xtest,ytrain,ytest=train_test_split(X,y,test_size=0.40)\n",
    "\n",
    "print ('\\n the total number of Training Data :',ytrain.shape)\n",
    "print ('\\n the total number of Test Data :',ytest.shape)\n",
    "\n",
    "clf = GaussianNB().fit(xtrain,ytrain.ravel())\n",
    "predicted = clf.predict(xtest)\n",
    "predictTestData= clf.predict([[6,148,72,35,0,33.6,0.627,50]])\n",
    "\n",
    "print('\\n Confusion matrix')\n",
    "print(metrics.confusion_matrix(ytest,predicted))\n",
    "\n",
    "print('\\n Accuracy of the classifier is',metrics.accuracy_score(ytest,predicted))\n",
    "\n",
    "print('\\n The value of Precision', metrics.precision_score(ytest,predicted))\n",
    "\n",
    "print('\\n The value of Recall', metrics.recall_score(ytest,predicted))\n",
    "\n",
    "print(\"Predicted Value for individual Test Data:\", predictTestData)"
   ]
  }
 ]
}